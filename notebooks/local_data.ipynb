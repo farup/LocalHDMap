{
 "cells": [
  {
   "cell_type": "code",
   "execution_count": 1,
   "metadata": {},
   "outputs": [],
   "source": [
    "import numpy as np\n",
    "import os \n",
    "import json \n",
    "import cv2"
   ]
  },
  {
   "cell_type": "code",
   "execution_count": 2,
   "metadata": {},
   "outputs": [],
   "source": [
    "path = \"/cluster/projects/vc/data/ad/closed/NAP-data/\""
   ]
  },
  {
   "cell_type": "code",
   "execution_count": 3,
   "metadata": {},
   "outputs": [],
   "source": [
    "def get_folders(path):\n",
    "    return [os.path.join(path,f) for f in os.listdir(path)]"
   ]
  },
  {
   "cell_type": "code",
   "execution_count": 4,
   "metadata": {},
   "outputs": [
    {
     "data": {
      "text/plain": [
       "['/cluster/projects/vc/data/ad/closed/NAP-data/Trip094',\n",
       " '/cluster/projects/vc/data/ad/closed/NAP-data/Trip079',\n",
       " '/cluster/projects/vc/data/ad/closed/NAP-data/Trip077',\n",
       " '/cluster/projects/vc/data/ad/closed/NAP-data/Trip078',\n",
       " '/cluster/projects/vc/data/ad/closed/NAP-data/LidarTestDurga',\n",
       " '/cluster/projects/vc/data/ad/closed/NAP-data/Trip092',\n",
       " '/cluster/projects/vc/data/ad/closed/NAP-data/Trip089',\n",
       " '/cluster/projects/vc/data/ad/closed/NAP-data/Trip093',\n",
       " '/cluster/projects/vc/data/ad/closed/NAP-data/Trip085',\n",
       " '/cluster/projects/vc/data/ad/closed/NAP-data/Trip088',\n",
       " '/cluster/projects/vc/data/ad/closed/NAP-data/Trip081',\n",
       " '/cluster/projects/vc/data/ad/closed/NAP-data/Trip095',\n",
       " '/cluster/projects/vc/data/ad/closed/NAP-data/Trip087',\n",
       " '/cluster/projects/vc/data/ad/closed/NAP-data/Trip076',\n",
       " '/cluster/projects/vc/data/ad/closed/NAP-data/sanket',\n",
       " '/cluster/projects/vc/data/ad/closed/NAP-data/shaira',\n",
       " '/cluster/projects/vc/data/ad/closed/NAP-data/Trip080',\n",
       " '/cluster/projects/vc/data/ad/closed/NAP-data/Trip090',\n",
       " '/cluster/projects/vc/data/ad/closed/NAP-data/Trip084',\n",
       " '/cluster/projects/vc/data/ad/closed/NAP-data/Trip091',\n",
       " '/cluster/projects/vc/data/ad/closed/NAP-data/Trip086',\n",
       " '/cluster/projects/vc/data/ad/closed/NAP-data/Trip082',\n",
       " '/cluster/projects/vc/data/ad/closed/NAP-data/Trip083']"
      ]
     },
     "execution_count": 4,
     "metadata": {},
     "output_type": "execute_result"
    }
   ],
   "source": [
    "folders = get_folders(path)\n",
    "folders"
   ]
  },
  {
   "cell_type": "code",
   "execution_count": 5,
   "metadata": {},
   "outputs": [
    {
     "data": {
      "text/plain": [
       "['/cluster/projects/vc/data/ad/closed/NAP-data/Trip077/software_versions.json',\n",
       " '/cluster/projects/vc/data/ad/closed/NAP-data/Trip077/can_vehicle1.bin.seek',\n",
       " '/cluster/projects/vc/data/ad/closed/NAP-data/Trip077/can_vehicle0.bin',\n",
       " '/cluster/projects/vc/data/ad/closed/NAP-data/Trip077/config',\n",
       " '/cluster/projects/vc/data/ad/closed/NAP-data/Trip077/C8_R2.h264.timestamps',\n",
       " '/cluster/projects/vc/data/ad/closed/NAP-data/Trip077/gnss52_vehicle.bin',\n",
       " '/cluster/projects/vc/data/ad/closed/NAP-data/Trip077/C4_rearCam.h264.timestamps',\n",
       " '/cluster/projects/vc/data/ad/closed/NAP-data/Trip077/C1_front60Single.h264',\n",
       " '/cluster/projects/vc/data/ad/closed/NAP-data/Trip077/camerasandCanandGnssCalibratedAll_lidars00-virtual.json',\n",
       " '/cluster/projects/vc/data/ad/closed/NAP-data/Trip077/C2_tricam60.h264',\n",
       " '/cluster/projects/vc/data/ad/closed/NAP-data/Trip077/C5_R1.h264.timestamps',\n",
       " '/cluster/projects/vc/data/ad/closed/NAP-data/Trip077/C4_rearCam.h264',\n",
       " '/cluster/projects/vc/data/ad/closed/NAP-data/Trip077/can_vehicle1.bin',\n",
       " '/cluster/projects/vc/data/ad/closed/NAP-data/Trip077/C7_L2.h264',\n",
       " '/cluster/projects/vc/data/ad/closed/NAP-data/Trip077/C3_tricam120.h264',\n",
       " '/cluster/projects/vc/data/ad/closed/NAP-data/Trip077/can_vehicle0.bin.seek',\n",
       " '/cluster/projects/vc/data/ad/closed/NAP-data/Trip077/C7_L2.h264.timestamps',\n",
       " '/cluster/projects/vc/data/ad/closed/NAP-data/Trip077/gnss52_vehicle.bin.seek',\n",
       " '/cluster/projects/vc/data/ad/closed/NAP-data/Trip077/gnss50_vehicle.bin.seek',\n",
       " '/cluster/projects/vc/data/ad/closed/NAP-data/Trip077/C6_L1.h264.timestamps',\n",
       " '/cluster/projects/vc/data/ad/closed/NAP-data/Trip077/C3_tricam120.h264.timestamps',\n",
       " '/cluster/projects/vc/data/ad/closed/NAP-data/Trip077/gnss50_vehicle.bin',\n",
       " '/cluster/projects/vc/data/ad/closed/NAP-data/Trip077/C8_R2.h264',\n",
       " '/cluster/projects/vc/data/ad/closed/NAP-data/Trip077/aux_info',\n",
       " '/cluster/projects/vc/data/ad/closed/NAP-data/Trip077/C6_L1.h264',\n",
       " '/cluster/projects/vc/data/ad/closed/NAP-data/Trip077/C2_tricam60.h264.timestamps',\n",
       " '/cluster/projects/vc/data/ad/closed/NAP-data/Trip077/C5_R1.h264',\n",
       " '/cluster/projects/vc/data/ad/closed/NAP-data/Trip077/C1_front60Single.h264.timestamps']"
      ]
     },
     "execution_count": 5,
     "metadata": {},
     "output_type": "execute_result"
    }
   ],
   "source": [
    "folders_trip_077 = get_folders(folders[2])\n",
    "folders_trip_077"
   ]
  },
  {
   "cell_type": "code",
   "execution_count": 6,
   "metadata": {},
   "outputs": [],
   "source": [
    "image_save_path = \"/cluster/home/terjenf/MapTR/NAP_data/nuscenes/samples\""
   ]
  },
  {
   "cell_type": "code",
   "execution_count": 7,
   "metadata": {},
   "outputs": [
    {
     "data": {
      "text/plain": [
       "'/cluster/projects/vc/data/ad/closed/NAP-data/Trip077/C1_front60Single.h264.timestamps'"
      ]
     },
     "execution_count": 7,
     "metadata": {},
     "output_type": "execute_result"
    }
   ],
   "source": [
    "time_stamps  = folders_trip_077[-1]\n",
    "(time_stamps)"
   ]
  },
  {
   "cell_type": "code",
   "execution_count": 8,
   "metadata": {},
   "outputs": [
    {
     "data": {
      "text/plain": [
       "['/cluster/projects/vc/data/ad/closed/NAP-data/Trip077/software_versions.json',\n",
       " '/cluster/projects/vc/data/ad/closed/NAP-data/Trip077/can_vehicle1.bin.seek',\n",
       " '/cluster/projects/vc/data/ad/closed/NAP-data/Trip077/can_vehicle0.bin',\n",
       " '/cluster/projects/vc/data/ad/closed/NAP-data/Trip077/config',\n",
       " '/cluster/projects/vc/data/ad/closed/NAP-data/Trip077/C8_R2.h264.timestamps',\n",
       " '/cluster/projects/vc/data/ad/closed/NAP-data/Trip077/gnss52_vehicle.bin',\n",
       " '/cluster/projects/vc/data/ad/closed/NAP-data/Trip077/C4_rearCam.h264.timestamps',\n",
       " '/cluster/projects/vc/data/ad/closed/NAP-data/Trip077/C1_front60Single.h264',\n",
       " '/cluster/projects/vc/data/ad/closed/NAP-data/Trip077/camerasandCanandGnssCalibratedAll_lidars00-virtual.json',\n",
       " '/cluster/projects/vc/data/ad/closed/NAP-data/Trip077/C2_tricam60.h264',\n",
       " '/cluster/projects/vc/data/ad/closed/NAP-data/Trip077/C5_R1.h264.timestamps',\n",
       " '/cluster/projects/vc/data/ad/closed/NAP-data/Trip077/C4_rearCam.h264',\n",
       " '/cluster/projects/vc/data/ad/closed/NAP-data/Trip077/can_vehicle1.bin',\n",
       " '/cluster/projects/vc/data/ad/closed/NAP-data/Trip077/C7_L2.h264',\n",
       " '/cluster/projects/vc/data/ad/closed/NAP-data/Trip077/C3_tricam120.h264',\n",
       " '/cluster/projects/vc/data/ad/closed/NAP-data/Trip077/can_vehicle0.bin.seek',\n",
       " '/cluster/projects/vc/data/ad/closed/NAP-data/Trip077/C7_L2.h264.timestamps',\n",
       " '/cluster/projects/vc/data/ad/closed/NAP-data/Trip077/gnss52_vehicle.bin.seek',\n",
       " '/cluster/projects/vc/data/ad/closed/NAP-data/Trip077/gnss50_vehicle.bin.seek',\n",
       " '/cluster/projects/vc/data/ad/closed/NAP-data/Trip077/C6_L1.h264.timestamps',\n",
       " '/cluster/projects/vc/data/ad/closed/NAP-data/Trip077/C3_tricam120.h264.timestamps',\n",
       " '/cluster/projects/vc/data/ad/closed/NAP-data/Trip077/gnss50_vehicle.bin',\n",
       " '/cluster/projects/vc/data/ad/closed/NAP-data/Trip077/C8_R2.h264',\n",
       " '/cluster/projects/vc/data/ad/closed/NAP-data/Trip077/aux_info',\n",
       " '/cluster/projects/vc/data/ad/closed/NAP-data/Trip077/C6_L1.h264',\n",
       " '/cluster/projects/vc/data/ad/closed/NAP-data/Trip077/C2_tricam60.h264.timestamps',\n",
       " '/cluster/projects/vc/data/ad/closed/NAP-data/Trip077/C5_R1.h264',\n",
       " '/cluster/projects/vc/data/ad/closed/NAP-data/Trip077/C1_front60Single.h264.timestamps']"
      ]
     },
     "execution_count": 8,
     "metadata": {},
     "output_type": "execute_result"
    }
   ],
   "source": [
    "folders_trip_077"
   ]
  },
  {
   "cell_type": "code",
   "execution_count": 9,
   "metadata": {},
   "outputs": [],
   "source": [
    "def sort_func(e): \n",
    "    return e.split(\"/\")[-1]"
   ]
  },
  {
   "cell_type": "code",
   "execution_count": 10,
   "metadata": {},
   "outputs": [
    {
     "data": {
      "text/plain": [
       "['/cluster/projects/vc/data/ad/closed/NAP-data/Trip077/software_versions.json',\n",
       " '/cluster/projects/vc/data/ad/closed/NAP-data/Trip077/can_vehicle1.bin.seek',\n",
       " '/cluster/projects/vc/data/ad/closed/NAP-data/Trip077/can_vehicle0.bin',\n",
       " '/cluster/projects/vc/data/ad/closed/NAP-data/Trip077/config',\n",
       " '/cluster/projects/vc/data/ad/closed/NAP-data/Trip077/C8_R2.h264.timestamps',\n",
       " '/cluster/projects/vc/data/ad/closed/NAP-data/Trip077/gnss52_vehicle.bin',\n",
       " '/cluster/projects/vc/data/ad/closed/NAP-data/Trip077/C4_rearCam.h264.timestamps',\n",
       " '/cluster/projects/vc/data/ad/closed/NAP-data/Trip077/C1_front60Single.h264',\n",
       " '/cluster/projects/vc/data/ad/closed/NAP-data/Trip077/camerasandCanandGnssCalibratedAll_lidars00-virtual.json',\n",
       " '/cluster/projects/vc/data/ad/closed/NAP-data/Trip077/C2_tricam60.h264',\n",
       " '/cluster/projects/vc/data/ad/closed/NAP-data/Trip077/C5_R1.h264.timestamps',\n",
       " '/cluster/projects/vc/data/ad/closed/NAP-data/Trip077/C4_rearCam.h264',\n",
       " '/cluster/projects/vc/data/ad/closed/NAP-data/Trip077/can_vehicle1.bin',\n",
       " '/cluster/projects/vc/data/ad/closed/NAP-data/Trip077/C7_L2.h264',\n",
       " '/cluster/projects/vc/data/ad/closed/NAP-data/Trip077/C3_tricam120.h264',\n",
       " '/cluster/projects/vc/data/ad/closed/NAP-data/Trip077/can_vehicle0.bin.seek',\n",
       " '/cluster/projects/vc/data/ad/closed/NAP-data/Trip077/C7_L2.h264.timestamps',\n",
       " '/cluster/projects/vc/data/ad/closed/NAP-data/Trip077/gnss52_vehicle.bin.seek',\n",
       " '/cluster/projects/vc/data/ad/closed/NAP-data/Trip077/gnss50_vehicle.bin.seek',\n",
       " '/cluster/projects/vc/data/ad/closed/NAP-data/Trip077/C6_L1.h264.timestamps',\n",
       " '/cluster/projects/vc/data/ad/closed/NAP-data/Trip077/C3_tricam120.h264.timestamps',\n",
       " '/cluster/projects/vc/data/ad/closed/NAP-data/Trip077/gnss50_vehicle.bin',\n",
       " '/cluster/projects/vc/data/ad/closed/NAP-data/Trip077/C8_R2.h264',\n",
       " '/cluster/projects/vc/data/ad/closed/NAP-data/Trip077/aux_info',\n",
       " '/cluster/projects/vc/data/ad/closed/NAP-data/Trip077/C6_L1.h264',\n",
       " '/cluster/projects/vc/data/ad/closed/NAP-data/Trip077/C2_tricam60.h264.timestamps',\n",
       " '/cluster/projects/vc/data/ad/closed/NAP-data/Trip077/C5_R1.h264',\n",
       " '/cluster/projects/vc/data/ad/closed/NAP-data/Trip077/C1_front60Single.h264.timestamps']"
      ]
     },
     "execution_count": 10,
     "metadata": {},
     "output_type": "execute_result"
    }
   ],
   "source": [
    "folders_trip_077"
   ]
  },
  {
   "cell_type": "code",
   "execution_count": 11,
   "metadata": {},
   "outputs": [],
   "source": [
    "def get_h264_files(folder): \n",
    "    return [file for file in folder if \".h264\" in file]"
   ]
  },
  {
   "cell_type": "code",
   "execution_count": 12,
   "metadata": {},
   "outputs": [
    {
     "data": {
      "text/plain": [
       "['/cluster/projects/vc/data/ad/closed/NAP-data/Trip077/C1_front60Single.h264',\n",
       " '/cluster/projects/vc/data/ad/closed/NAP-data/Trip077/C1_front60Single.h264.timestamps',\n",
       " '/cluster/projects/vc/data/ad/closed/NAP-data/Trip077/C2_tricam60.h264',\n",
       " '/cluster/projects/vc/data/ad/closed/NAP-data/Trip077/C2_tricam60.h264.timestamps',\n",
       " '/cluster/projects/vc/data/ad/closed/NAP-data/Trip077/C3_tricam120.h264',\n",
       " '/cluster/projects/vc/data/ad/closed/NAP-data/Trip077/C3_tricam120.h264.timestamps',\n",
       " '/cluster/projects/vc/data/ad/closed/NAP-data/Trip077/C4_rearCam.h264',\n",
       " '/cluster/projects/vc/data/ad/closed/NAP-data/Trip077/C4_rearCam.h264.timestamps',\n",
       " '/cluster/projects/vc/data/ad/closed/NAP-data/Trip077/C5_R1.h264',\n",
       " '/cluster/projects/vc/data/ad/closed/NAP-data/Trip077/C5_R1.h264.timestamps',\n",
       " '/cluster/projects/vc/data/ad/closed/NAP-data/Trip077/C6_L1.h264',\n",
       " '/cluster/projects/vc/data/ad/closed/NAP-data/Trip077/C6_L1.h264.timestamps',\n",
       " '/cluster/projects/vc/data/ad/closed/NAP-data/Trip077/C7_L2.h264',\n",
       " '/cluster/projects/vc/data/ad/closed/NAP-data/Trip077/C7_L2.h264.timestamps',\n",
       " '/cluster/projects/vc/data/ad/closed/NAP-data/Trip077/C8_R2.h264',\n",
       " '/cluster/projects/vc/data/ad/closed/NAP-data/Trip077/C8_R2.h264.timestamps']"
      ]
     },
     "execution_count": 12,
     "metadata": {},
     "output_type": "execute_result"
    }
   ],
   "source": [
    "h =get_h264_files(folders_trip_077)\n",
    "h.sort(key=sort_func)\n",
    "h"
   ]
  },
  {
   "cell_type": "code",
   "execution_count": 13,
   "metadata": {},
   "outputs": [
    {
     "name": "stdout",
     "output_type": "stream",
     "text": [
      "16570\n"
     ]
    }
   ],
   "source": [
    "def count_timestamps(time_sampts): \n",
    "    count = 0\n",
    "    with open(time_stamps, 'r') as file: \n",
    "        for timestamp in file: \n",
    "            #print(timestamp)\n",
    "            count += 1\n",
    "        print(count)\n",
    "\n",
    "count_timestamps(h[1])"
   ]
  },
  {
   "cell_type": "code",
   "execution_count": 14,
   "metadata": {},
   "outputs": [
    {
     "name": "stdout",
     "output_type": "stream",
     "text": [
      "16570\n"
     ]
    }
   ],
   "source": [
    "count_timestamps(h[3])"
   ]
  },
  {
   "cell_type": "code",
   "execution_count": null,
   "metadata": {},
   "outputs": [],
   "source": [
    "def count_frames(cap):\n",
    "    if not cap.isOpened():\n",
    "        print(\"Error: Unable to open the video file\")\n",
    "    else:\n",
    "        frame_count = 0\n",
    "        while True:\n",
    "            ret, frame = cap.read()\n",
    "            if not ret:\n",
    "                break\n",
    "            frame_count += 1\n",
    "\n",
    "        print(f\"Total frames (counted manually): {frame_count}\")\n",
    "\n",
    "    cap.release()"
   ]
  },
  {
   "cell_type": "code",
   "execution_count": 16,
   "metadata": {},
   "outputs": [
    {
     "data": {
      "text/plain": [
       "['/cluster/projects/vc/data/ad/closed/NAP-data/Trip077/C1_front60Single.h264',\n",
       " '/cluster/projects/vc/data/ad/closed/NAP-data/Trip077/C1_front60Single.h264.timestamps',\n",
       " '/cluster/projects/vc/data/ad/closed/NAP-data/Trip077/C2_tricam60.h264',\n",
       " '/cluster/projects/vc/data/ad/closed/NAP-data/Trip077/C2_tricam60.h264.timestamps',\n",
       " '/cluster/projects/vc/data/ad/closed/NAP-data/Trip077/C3_tricam120.h264',\n",
       " '/cluster/projects/vc/data/ad/closed/NAP-data/Trip077/C3_tricam120.h264.timestamps',\n",
       " '/cluster/projects/vc/data/ad/closed/NAP-data/Trip077/C4_rearCam.h264',\n",
       " '/cluster/projects/vc/data/ad/closed/NAP-data/Trip077/C4_rearCam.h264.timestamps',\n",
       " '/cluster/projects/vc/data/ad/closed/NAP-data/Trip077/C5_R1.h264',\n",
       " '/cluster/projects/vc/data/ad/closed/NAP-data/Trip077/C5_R1.h264.timestamps',\n",
       " '/cluster/projects/vc/data/ad/closed/NAP-data/Trip077/C6_L1.h264',\n",
       " '/cluster/projects/vc/data/ad/closed/NAP-data/Trip077/C6_L1.h264.timestamps',\n",
       " '/cluster/projects/vc/data/ad/closed/NAP-data/Trip077/C7_L2.h264',\n",
       " '/cluster/projects/vc/data/ad/closed/NAP-data/Trip077/C7_L2.h264.timestamps',\n",
       " '/cluster/projects/vc/data/ad/closed/NAP-data/Trip077/C8_R2.h264',\n",
       " '/cluster/projects/vc/data/ad/closed/NAP-data/Trip077/C8_R2.h264.timestamps']"
      ]
     },
     "execution_count": 16,
     "metadata": {},
     "output_type": "execute_result"
    }
   ],
   "source": [
    "h"
   ]
  },
  {
   "cell_type": "code",
   "execution_count": 17,
   "metadata": {},
   "outputs": [
    {
     "data": {
      "text/plain": [
       "'/cluster/projects/vc/data/ad/closed/NAP-data/Trip077/C1_front60Single.h264'"
      ]
     },
     "execution_count": 17,
     "metadata": {},
     "output_type": "execute_result"
    }
   ],
   "source": [
    "folders_trip_077[7]"
   ]
  },
  {
   "cell_type": "code",
   "execution_count": 18,
   "metadata": {},
   "outputs": [
    {
     "data": {
      "text/plain": [
       "30.0"
      ]
     },
     "execution_count": 18,
     "metadata": {},
     "output_type": "execute_result"
    }
   ],
   "source": [
    "\n",
    "# Open the video file\n",
    "cap_1 = cv2.VideoCapture(folders_trip_077[7])\n",
    "cap_1.get(cv2.CAP_PROP_FPS)\n",
    "#count_frames(cap_1)"
   ]
  },
  {
   "cell_type": "code",
   "execution_count": 19,
   "metadata": {},
   "outputs": [
    {
     "data": {
      "text/plain": [
       "30.0"
      ]
     },
     "execution_count": 19,
     "metadata": {},
     "output_type": "execute_result"
    }
   ],
   "source": [
    "# Open the video file\n",
    "cap_2 = cv2.VideoCapture(folders_trip_077[9])\n",
    "cap_2.get(cv2.CAP_PROP_FPS)\n",
    "#count_frames(cap_2)"
   ]
  },
  {
   "cell_type": "code",
   "execution_count": 20,
   "metadata": {},
   "outputs": [],
   "source": [
    "def save_frames(image_save_path, cap):\n",
    "    if not cap.isOpened():\n",
    "        print(\"Error: Unable to open the .h264 file\")\n",
    "    else:\n",
    "        frame_count = 0\n",
    "        while True:\n",
    "            # Read each frame\n",
    "            ret, frame = cap.read()\n",
    "            if not ret:\n",
    "                break\n",
    "\n",
    "            # Save the frame as an image file\n",
    "            frame_filename = os.path.join(image_save_path, f\"frame_{frame_count:04d}.png\")\n",
    "            cv2.imwrite(frame_filename, frame)\n",
    "            print(f\"Saved: {frame_filename}\")\n",
    "\n",
    "            frame_count += 1\n",
    "        # Release resources\n",
    "        cap.release()\n",
    "        print(f\"Extracted {frame_count} frames to {image_save_path}\")"
   ]
  },
  {
   "cell_type": "code",
   "execution_count": 21,
   "metadata": {},
   "outputs": [
    {
     "data": {
      "text/plain": [
       "['/cluster/projects/vc/data/ad/closed/NAP-data/Trip077/C1_front60Single.h264',\n",
       " '/cluster/projects/vc/data/ad/closed/NAP-data/Trip077/C1_front60Single.h264.timestamps',\n",
       " '/cluster/projects/vc/data/ad/closed/NAP-data/Trip077/C2_tricam60.h264',\n",
       " '/cluster/projects/vc/data/ad/closed/NAP-data/Trip077/C2_tricam60.h264.timestamps',\n",
       " '/cluster/projects/vc/data/ad/closed/NAP-data/Trip077/C3_tricam120.h264',\n",
       " '/cluster/projects/vc/data/ad/closed/NAP-data/Trip077/C3_tricam120.h264.timestamps',\n",
       " '/cluster/projects/vc/data/ad/closed/NAP-data/Trip077/C4_rearCam.h264',\n",
       " '/cluster/projects/vc/data/ad/closed/NAP-data/Trip077/C4_rearCam.h264.timestamps',\n",
       " '/cluster/projects/vc/data/ad/closed/NAP-data/Trip077/C5_R1.h264',\n",
       " '/cluster/projects/vc/data/ad/closed/NAP-data/Trip077/C5_R1.h264.timestamps',\n",
       " '/cluster/projects/vc/data/ad/closed/NAP-data/Trip077/C6_L1.h264',\n",
       " '/cluster/projects/vc/data/ad/closed/NAP-data/Trip077/C6_L1.h264.timestamps',\n",
       " '/cluster/projects/vc/data/ad/closed/NAP-data/Trip077/C7_L2.h264',\n",
       " '/cluster/projects/vc/data/ad/closed/NAP-data/Trip077/C7_L2.h264.timestamps',\n",
       " '/cluster/projects/vc/data/ad/closed/NAP-data/Trip077/C8_R2.h264',\n",
       " '/cluster/projects/vc/data/ad/closed/NAP-data/Trip077/C8_R2.h264.timestamps']"
      ]
     },
     "execution_count": 21,
     "metadata": {},
     "output_type": "execute_result"
    }
   ],
   "source": [
    "h"
   ]
  },
  {
   "cell_type": "code",
   "execution_count": 22,
   "metadata": {},
   "outputs": [
    {
     "data": {
      "text/plain": [
       "['/cluster/projects/vc/data/ad/closed/NAP-data/Trip077/software_versions.json',\n",
       " '/cluster/projects/vc/data/ad/closed/NAP-data/Trip077/can_vehicle1.bin.seek',\n",
       " '/cluster/projects/vc/data/ad/closed/NAP-data/Trip077/can_vehicle0.bin',\n",
       " '/cluster/projects/vc/data/ad/closed/NAP-data/Trip077/config',\n",
       " '/cluster/projects/vc/data/ad/closed/NAP-data/Trip077/C8_R2.h264.timestamps',\n",
       " '/cluster/projects/vc/data/ad/closed/NAP-data/Trip077/gnss52_vehicle.bin',\n",
       " '/cluster/projects/vc/data/ad/closed/NAP-data/Trip077/C4_rearCam.h264.timestamps',\n",
       " '/cluster/projects/vc/data/ad/closed/NAP-data/Trip077/C1_front60Single.h264',\n",
       " '/cluster/projects/vc/data/ad/closed/NAP-data/Trip077/camerasandCanandGnssCalibratedAll_lidars00-virtual.json',\n",
       " '/cluster/projects/vc/data/ad/closed/NAP-data/Trip077/C2_tricam60.h264',\n",
       " '/cluster/projects/vc/data/ad/closed/NAP-data/Trip077/C5_R1.h264.timestamps',\n",
       " '/cluster/projects/vc/data/ad/closed/NAP-data/Trip077/C4_rearCam.h264',\n",
       " '/cluster/projects/vc/data/ad/closed/NAP-data/Trip077/can_vehicle1.bin',\n",
       " '/cluster/projects/vc/data/ad/closed/NAP-data/Trip077/C7_L2.h264',\n",
       " '/cluster/projects/vc/data/ad/closed/NAP-data/Trip077/C3_tricam120.h264',\n",
       " '/cluster/projects/vc/data/ad/closed/NAP-data/Trip077/can_vehicle0.bin.seek',\n",
       " '/cluster/projects/vc/data/ad/closed/NAP-data/Trip077/C7_L2.h264.timestamps',\n",
       " '/cluster/projects/vc/data/ad/closed/NAP-data/Trip077/gnss52_vehicle.bin.seek',\n",
       " '/cluster/projects/vc/data/ad/closed/NAP-data/Trip077/gnss50_vehicle.bin.seek',\n",
       " '/cluster/projects/vc/data/ad/closed/NAP-data/Trip077/C6_L1.h264.timestamps',\n",
       " '/cluster/projects/vc/data/ad/closed/NAP-data/Trip077/C3_tricam120.h264.timestamps',\n",
       " '/cluster/projects/vc/data/ad/closed/NAP-data/Trip077/gnss50_vehicle.bin',\n",
       " '/cluster/projects/vc/data/ad/closed/NAP-data/Trip077/C8_R2.h264',\n",
       " '/cluster/projects/vc/data/ad/closed/NAP-data/Trip077/aux_info',\n",
       " '/cluster/projects/vc/data/ad/closed/NAP-data/Trip077/C6_L1.h264',\n",
       " '/cluster/projects/vc/data/ad/closed/NAP-data/Trip077/C2_tricam60.h264.timestamps',\n",
       " '/cluster/projects/vc/data/ad/closed/NAP-data/Trip077/C5_R1.h264',\n",
       " '/cluster/projects/vc/data/ad/closed/NAP-data/Trip077/C1_front60Single.h264.timestamps']"
      ]
     },
     "execution_count": 22,
     "metadata": {},
     "output_type": "execute_result"
    }
   ],
   "source": [
    "folders_trip_077"
   ]
  },
  {
   "cell_type": "code",
   "execution_count": 23,
   "metadata": {},
   "outputs": [
    {
     "name": "stdout",
     "output_type": "stream",
     "text": [
      "b'\\xf2\\xea\\xee\\xc5\\x02\\x00\\x00\\x00\\x03\\x00\\x00\\x00\\x05\\x00\\x00\\x00K\\x00\\x00\\x00c61a9a35bd04\\x1e,\\x84\\x14C\\xfc\\x05\\x00 \\x02\\x00\\x00\\x08\\x00\\x11d\\x85$\\x00\\x1e\\x10\\x05\\x00\\x00\\x00\\x00\\x00\\x00\\x00\\x00\\x00\\x00\\x00\\x00\\x00\\x00\\x00\\x00\\x00\\x00\\x00\\x00\\x00\\x00\\x00\\x00\\x00\\x00\\x00\\x00\\x00\\x00\\x00\\x00\\x00\\x00\\x00\\x00\\x00\\x00\\x00\\x00\\x00\\x00\\x00\\x00\\x00\\x00\\x00\\x00\\x00\\x00\\x00\\x00\\x00\\x00\\x00\\x00S/\\x84\\x14C\\xfc\\x05\\x00\\x86\\x03\\x00\\x00\\x08\\x00\\x00\\x00\\x00\\x00\\x00@\\x00\\x80\\x00\\x00\\x00\\x00\\x00\\x00\\x00\\x00\\x00\\x00\\x00\\x00\\x00\\x00\\x00\\x00\\x00\\x00\\x00\\x00\\x00\\x00\\x00\\x00\\x00\\x00\\x00\\x00\\x00\\x00\\x00\\x00\\x00\\x00\\x00\\x00\\x00\\x00\\x00\\x00\\x00\\x00\\x00\\x00\\x00\\x00\\x00\\x00\\x00\\x00\\x00\\x00\\x00\\x00\\x00\\x00\\xaf6\\x84\\x14C\\xfc\\x05\\x00\\xb0\\x02\\x00\\x00\\x08\\x00\\x08\\xfd\\x00\\x07\\x1c\\x00\\x00\\x00\\x00\\x00\\x00\\x00\\x00\\x00\\x00\\x00\\x00\\x00\\x00\\x00\\x00\\x00\\x00\\x00\\x00\\x00\\x00\\x00\\x00\\x00\\x00\\x00\\x00\\x00\\x00\\x00\\x00\\x00\\x00\\x00\\x00\\x00\\x00\\x00\\x00\\x00\\x00\\x00\\x00\\x00\\x00\\x00\\x00\\x00\\x00\\x00\\x00\\x00\\x00\\x00\\x00\\x00\\x00\\x00ZI\\x84\\x14C\\xfc\\x05\\x00s\\x00\\x00\\x00\\x08\\x00\\x05\\xcc\\x00\\x00\\x00]\\x011\\x00\\x00\\x00\\x00\\x00\\x00\\x00\\x00\\x00\\x00\\x00\\x00\\x00\\x00\\x00\\x00\\x00\\x00\\x00\\x00\\x00\\x00\\x00\\x00\\x00\\x00\\x00\\x00\\x00\\x00\\x00\\x00\\x00\\x00\\x00\\x00\\x00\\x00\\x00\\x00\\x00\\x00\\x00\\x00\\x00\\x00\\x00\\x00\\x00\\x00\\x00\\x00\\x00\\x00\\x00\\x00\\xd3S\\x84\\x14C\\xfc\\x05\\x00 \\x02\\x00\\x00\\x08\\x00\\x12D\\x850\\x00\\x1c\\x10\\x1e\\x00\\x00\\x00\\x00\\x00\\x00\\x00\\x00\\x00\\x00\\x00\\x00\\x00\\x00\\x00\\x00\\x00\\x00\\x00\\x00\\x00\\x00\\x00\\x00\\x00\\x00\\x00\\x00\\x00\\x00\\x00\\x00\\x00\\x00\\x00\\x00\\x00\\x00\\x00\\x00\\x00\\x00\\x00\\x00\\x00\\x00\\x00\\x00\\x00\\x00\\x00\\x00\\x00\\x00\\x00\\x00R]\\x84\\x14C\\xfc\\x05\\x00\\xb0\\x02\\x00\\x00\\x08\\x00\\t\\xfd\\x00\\x07\\x1d\\x00\\x00\\x00\\x00\\x00\\x00\\x00\\x00\\x00\\x00\\x00\\x00\\x00\\x00\\x00\\x00\\x00\\x00\\x00\\x00\\x00\\x00\\x00\\x00\\x00\\x00\\x00\\x00\\x00\\x00\\x00\\x00\\x00\\x00\\x00\\x00\\x00\\x00\\x00\\x00\\x00\\x00\\x00\\x00\\x00\\x00\\x00\\x00\\x00\\x00\\x00\\x00\\x00\\x00\\x00\\x00\\x00\\x00\\x00'\n"
     ]
    }
   ],
   "source": [
    "with open(\"/cluster/home/terjenf/MapTR/NAP_raw_data/Trip077/can_vehicle0.bin\", \"rb\") as file:\n",
    "    content = file.read()\n",
    "    print(content[:500])  # Print the first 500 characters"
   ]
  },
  {
   "cell_type": "code",
   "execution_count": 24,
   "metadata": {},
   "outputs": [
    {
     "data": {
      "text/plain": [
       "'/cluster/projects/vc/data/ad/closed/NAP-data/Trip077/camerasandCanandGnssCalibratedAll_lidars00-virtual.json'"
      ]
     },
     "execution_count": 24,
     "metadata": {},
     "output_type": "execute_result"
    }
   ],
   "source": [
    "folders_trip_077[8]"
   ]
  },
  {
   "cell_type": "code",
   "execution_count": 25,
   "metadata": {},
   "outputs": [],
   "source": [
    "with open(folders_trip_077[8], 'r') as file: \n",
    "    json_object = json.load(file)\n",
    "    "
   ]
  },
  {
   "cell_type": "code",
   "execution_count": 26,
   "metadata": {},
   "outputs": [
    {
     "data": {
      "text/plain": [
       "dict_keys(['rig', 'version'])"
      ]
     },
     "execution_count": 26,
     "metadata": {},
     "output_type": "execute_result"
    }
   ],
   "source": [
    "json_object.keys()"
   ]
  },
  {
   "cell_type": "code",
   "execution_count": 27,
   "metadata": {},
   "outputs": [
    {
     "data": {
      "text/plain": [
       "{'valid': True,\n",
       " 'value': {'actuation': {'brakeActuatorTimeConstant': 0.5,\n",
       "   'brakeActuatorTimeDelay': 0.0,\n",
       "   'driveByWireTimeConstant': 0.25999999046325684,\n",
       "   'driveByWireTimeDelay': 0.10999999940395355,\n",
       "   'effectiveMass': 0.0,\n",
       "   'maxSteeringWheelAngle': 8.290313720703125,\n",
       "   'steeringWheelToSteeringMap': [0.0,\n",
       "    0.06764844059944153,\n",
       "    -2.211817081843037e-05,\n",
       "    0.0001220461999764666,\n",
       "    6.98658084274939e-07,\n",
       "    1.0106930403708247e-06],\n",
       "   'throttleActuatorTimeConstant': 1.0,\n",
       "   'throttleActuatorTimeDelay': 0.0,\n",
       "   'torqueLUT': {'brakePedalInput': '0.000, 0.07, 0.14, 0.21, 0.29, 0.36, 0.43, 0.50, 0.57, 0.64, 0.71, 0.79, 0.86, 0.93, 1.000',\n",
       "    'brakeTorqueOutput': '0.000, 236.05, 470.44, 708.48, 944.52, 1180.57, 1416.95, 1653.000, 1889.05, 2125.43, 2361.48, 2597.52, 2833.57, 3069.95, 3306.000',\n",
       "    'throttlePedalInput': '0.000, 0.07, 0.14, 0.21, 0.29, 0.36, 0.43, 0.50, 0.57, 0.64, 0.71, 0.79, 0.86, 0.93, 1.000',\n",
       "    'throttleSpeedInput': '0.000, 2.000, 4.000, 6.000, 8.000, 10.000, 12.000, 14.000, 16.000, 18.000, 20.000, 22.000, 24.000, 26.000, 28.000',\n",
       "    'throttleTorqueOutput': ['0.000, 0.000, 0.000, 0.000, 0.000, 0.000, 0.000, 0.000, 0.000, 0.000, 0.000, 0.000, 0.000, 0.000, 0.000',\n",
       "     '103.15, 103.15, 103.15, 103.15, 103.15, 103.15, 103.15, 103.15, 103.15, 103.15, 103.15, 103.15, 103.15, 103.15, 103.15',\n",
       "     '205.96, 205.96, 205.96, 205.96, 205.96, 205.96, 205.96, 205.96, 205.96, 205.96, 205.96, 205.96, 205.96, 205.96, 205.96',\n",
       "     '359.03, 359.03, 359.03, 359.03, 359.03, 359.03, 359.03, 359.03, 359.03, 359.03, 359.03, 359.03, 359.03, 359.03, 359.03',\n",
       "     '874.77, 874.77, 874.77, 874.77, 874.77, 874.77, 874.77, 874.77, 874.77, 874.77, 874.77, 874.77, 874.77, 874.77, 874.77',\n",
       "     '1412.32, 1412.32, 1412.32, 1412.32, 1412.32, 1412.32, 1412.32, 1412.32, 1412.32, 1412.32, 1412.32, 1412.32, 1412.32, 1412.32, 1412.32',\n",
       "     '1775.32, 1775.32, 1775.32, 1775.32, 1775.32, 1775.32, 1775.32, 1775.32, 1775.32, 1775.32, 1775.32, 1775.32, 1775.32, 1775.32, 1775.32',\n",
       "     '2000.79, 2000.79, 2000.79, 2000.79, 2000.79, 2000.79, 2000.79, 2000.79, 2000.79, 2000.79, 2000.79, 2000.79, 2000.79, 2000.79, 2000.79',\n",
       "     '2103.61, 2103.61, 2103.61, 2103.61, 2103.61, 2103.61, 2103.61, 2103.61, 2103.61, 2103.61, 2103.61, 2103.61, 2103.61, 2103.61, 2103.61',\n",
       "     '2167.41, 2167.41, 2167.41, 2167.41, 2167.41, 2167.41, 2167.41, 2167.41, 2167.41, 2167.41, 2167.41, 2167.41, 2167.41, 2167.41, 2167.41',\n",
       "     '2224.94, 2224.94, 2224.94, 2224.94, 2224.94, 2224.94, 2224.94, 2224.94, 2224.94, 2224.94, 2224.94, 2224.94, 2224.94, 2224.94, 2224.94',\n",
       "     '2282.79, 2282.79, 2282.79, 2282.79, 2282.79, 2282.79, 2282.79, 2282.79, 2282.79, 2282.79, 2282.79, 2282.79, 2282.79, 2282.79, 2282.79',\n",
       "     '2344.62, 2344.62, 2344.62, 2344.62, 2344.62, 2344.62, 2344.62, 2344.62, 2344.62, 2344.62, 2344.62, 2344.62, 2344.62, 2344.62, 2344.62',\n",
       "     '2407.76, 2407.76, 2407.76, 2407.76, 2407.76, 2407.76, 2407.76, 2407.76, 2407.76, 2407.76, 2407.76, 2407.76, 2407.76, 2407.76, 2407.76',\n",
       "     '2470.57, 2470.57, 2470.57, 2470.57, 2470.57, 2470.57, 2470.57, 2470.57, 2470.57, 2470.57, 2470.57, 2470.57, 2470.57, 2470.57, 2470.57']}},\n",
       "  'axleFront': {'corneringStiffness': 30654.0,\n",
       "   'position': 2.8499999046325684,\n",
       "   'track': 1.5820000171661377,\n",
       "   'wheelRadiusLeft': 0.33059999346733093,\n",
       "   'wheelRadiusRight': 0.33059999346733093},\n",
       "  'axleRear': {'corneringStiffness': 36407.0,\n",
       "   'position': 0.0,\n",
       "   'track': 1.5750000476837158,\n",
       "   'wheelRadiusLeft': 0.33059999346733093,\n",
       "   'wheelRadiusRight': 0.33059999346733093},\n",
       "  'body': {'boundingBoxPosition': [-1.1089999675750732, 0.0, 0.0],\n",
       "   'centerOfMass': [1.5640000104904175, 0.0, 0.550000011920929],\n",
       "   'height': 1.4730000495910645,\n",
       "   'inertia': [750.0, 3200.0, 3500.0],\n",
       "   'length': 4.872000217437744,\n",
       "   'mass': 1779.4000244140625,\n",
       "   'width': 2.121000051498413,\n",
       "   'widthWithoutMirrors': 1.8519999980926514},\n",
       "  'hasCabin': False,\n",
       "  'numTrailers': 0}}"
      ]
     },
     "execution_count": 27,
     "metadata": {},
     "output_type": "execute_result"
    }
   ],
   "source": [
    "json_object.get('rig').get('vehicle')"
   ]
  },
  {
   "cell_type": "code",
   "execution_count": 28,
   "metadata": {},
   "outputs": [
    {
     "name": "stdout",
     "output_type": "stream",
     "text": [
      "C1_front60Single\n",
      "C2_tricam60\n",
      "C3_tricam120\n",
      "C4_rearCam\n",
      "C5_R1\n",
      "C6_L1\n",
      "C7_L2\n",
      "C8_R2\n",
      "can:vehicle0\n",
      "can:vehicle1\n",
      "gnss50:vehicle\n",
      "gnss52:vehicle\n"
     ]
    }
   ],
   "source": [
    "for sensor in json_object.get('rig').get('sensors'):\n",
    "    print(sensor['name'])"
   ]
  },
  {
   "cell_type": "code",
   "execution_count": 29,
   "metadata": {},
   "outputs": [],
   "source": [
    "cam_name = {}\n",
    "roll_pitch_yaw = []\n",
    "t = []\n",
    "properties = []\n",
    "\n",
    "for car_mask in json_object['rig']['sensors']: \n",
    "    try: \n",
    "        if 'car-mask' not in car_mask.keys():\n",
    "            continue\n",
    "        nominalSensor2Rig_FLU = car_mask['nominalSensor2Rig_FLU']\n",
    "    \n",
    "        roll_pitch_yaw = nominalSensor2Rig_FLU['roll-pitch-yaw']\n",
    "        t = nominalSensor2Rig_FLU['t']\n",
    "        properties = car_mask['properties']\n",
    "\n",
    "        cam_name[car_mask['name']] = {'roll_pitch_yaw': roll_pitch_yaw, 't':t, 'properties': properties}\n",
    "    except KeyError as e:\n",
    "        print(\"Error\", e)\n",
    "        print(car_mask)"
   ]
  },
  {
   "cell_type": "code",
   "execution_count": 30,
   "metadata": {},
   "outputs": [
    {
     "data": {
      "text/plain": [
       "dict_keys(['C1_front60Single', 'C2_tricam60', 'C3_tricam120', 'C4_rearCam', 'C5_R1', 'C6_L1', 'C7_L2', 'C8_R2'])"
      ]
     },
     "execution_count": 30,
     "metadata": {},
     "output_type": "execute_result"
    }
   ],
   "source": [
    "cam_name.keys()"
   ]
  },
  {
   "cell_type": "code",
   "execution_count": 31,
   "metadata": {},
   "outputs": [
    {
     "data": {
      "text/plain": [
       "{'roll_pitch_yaw': [1.6242992877960205, 2.82977557182312, 2.152301788330078],\n",
       " 't': [1.8162150382995605, 0.22106018662452698, 1.5156701803207397],\n",
       " 'properties': {'Model': 'ftheta',\n",
       "  'bw-poly': '0.000000000000000 5.36573003046215e-4 1.28669519483537e-8 -1.43870852731265e-11 3.04339340289120e-15 ',\n",
       "  'cx': '846.863159',\n",
       "  'cy': '670.665466',\n",
       "  'height': '1208',\n",
       "  'width': '1920'}}"
      ]
     },
     "execution_count": 31,
     "metadata": {},
     "output_type": "execute_result"
    }
   ],
   "source": [
    "cam_name['C1_front60Single']"
   ]
  },
  {
   "cell_type": "code",
   "execution_count": 32,
   "metadata": {},
   "outputs": [],
   "source": [
    "def get_camera_params(cam=\"C1_front60Single\"):\n",
    "    cx = float(cam_name[cam]['properties']['cx'])\n",
    "    cy = float(cam_name[cam]['properties']['cy'])\n",
    "    t = cam_name[cam]['t']\n",
    "    roll_pitch_yaw = cam_name[cam]['roll_pitch_yaw']\n",
    "\n",
    "    bw_poly = (cam_name[cam]['properties']['bw-poly']).split(\" \")\n",
    "    float_bw = [float(num) for num in bw_poly if len(num) > 2]\n",
    "\n",
    "    return cx, cy, float_bw, t, roll_pitch_yaw"
   ]
  },
  {
   "cell_type": "code",
   "execution_count": 33,
   "metadata": {},
   "outputs": [],
   "source": [
    "import numpy as np\n",
    "import cv2\n",
    "\n",
    "def precompute_lookup_table(image_width, image_height, u0, v0, j_coeffs):\n",
    "\n",
    "    lookup_table = np.zeros((image_height, image_width, 4), dtype=np.float32)\n",
    "    \n",
    "    for v in range(image_height):\n",
    "        for u in range(image_width):\n",
    "\n",
    "            # Pixel offset from principal points \n",
    "            px = u - u0\n",
    "            py = v - v0\n",
    "            \n",
    "            #  Compute distance between pixel and principal point \n",
    "            r = np.sqrt(px**2 + py**2)\n",
    "            \n",
    "            # Backward Polynomial \n",
    "            theta = sum(j * (r**i) for i, j in enumerate(j_coeffs))\n",
    "            \n",
    "            # Phi angle, with image axis\n",
    "            phi = np.arctan2(py, px)\n",
    "            \n",
    "            # Ray direction\n",
    "            ray_x = np.sin(theta) * np.cos(phi)\n",
    "            ray_y = np.sin(theta) * np.sin(phi)\n",
    "            ray_z = np.cos(theta)\n",
    "            \n",
    "            # Store the ray in the lookup table\n",
    "            lookup_table[v, u, :] = [ray_x, ray_y, ray_z, 1]\n",
    "    \n",
    "    return lookup_table\n",
    "\n",
    "#lookup_table = precompute_lookup_table(image_width, image_height, cx, cy, float_bw)"
   ]
  },
  {
   "cell_type": "code",
   "execution_count": 63,
   "metadata": {},
   "outputs": [],
   "source": [
    "image_path_front = \"/cluster/home/terjenf/MapTR/NAP_data/nuscenes/samples/C1_front60Single/frame_0753.png\"\n",
    "image = cv2.imread(image_path_front)  \n",
    "image_height, image_width = image.shape[:2]"
   ]
  },
  {
   "cell_type": "code",
   "execution_count": 35,
   "metadata": {},
   "outputs": [],
   "source": [
    "cx, cy, float_bw, t, roll_pitch_yaw = get_camera_params()"
   ]
  },
  {
   "cell_type": "code",
   "execution_count": 65,
   "metadata": {},
   "outputs": [
    {
     "data": {
      "text/plain": [
       "(1920, 1208)"
      ]
     },
     "execution_count": 65,
     "metadata": {},
     "output_type": "execute_result"
    }
   ],
   "source": [
    "image_width, image_height"
   ]
  },
  {
   "cell_type": "code",
   "execution_count": 36,
   "metadata": {},
   "outputs": [],
   "source": [
    "lookup_table = precompute_lookup_table(image_width, image_height, cx, cy, float_bw)"
   ]
  },
  {
   "cell_type": "code",
   "execution_count": 37,
   "metadata": {},
   "outputs": [
    {
     "data": {
      "text/plain": [
       "(1208, 1920, 4)"
      ]
     },
     "execution_count": 37,
     "metadata": {},
     "output_type": "execute_result"
    }
   ],
   "source": [
    "lookup_table.shape"
   ]
  },
  {
   "cell_type": "code",
   "execution_count": 38,
   "metadata": {},
   "outputs": [],
   "source": [
    "def meshgrid(xmin, xmax, num_x, ymin, ymax, num_y, is_homogeneous=True):\n",
    "    \"\"\"\n",
    "    Grid is parallel to z-axis\n",
    "\n",
    "    Returns:\n",
    "        array x,y,z,[1] coordinate   [3/4, num_x * num_y]\n",
    "    \"\"\"\n",
    "    x = np.linspace(xmin, xmax, num_x)\n",
    "    y = np.linspace(ymin, ymax, num_y)\n",
    "    x, y = np.meshgrid(x, y)\n",
    "    x = x.flatten()\n",
    "    y = y.flatten()\n",
    "    z = np.zeros_like(x)\n",
    "\n",
    "    if is_homogeneous:\n",
    "        coords = np.stack([x, y, z, np.ones_like(x)], axis=0)\n",
    "    else:\n",
    "        coords = np.stack([x, y, z], axis=0)\n",
    "    return coords"
   ]
  },
  {
   "cell_type": "code",
   "execution_count": 39,
   "metadata": {},
   "outputs": [],
   "source": [
    "class Plane:\n",
    "    \"\"\"\n",
    "    Defines a plane in the world\n",
    "    \"\"\"\n",
    "\n",
    "    def __init__(self, x, y, z, roll, pitch, yaw,\n",
    "                 col, row, scale):\n",
    "        self.x, self.y, self.z = x, y, z\n",
    "        self.roll, self.pitch, self.yaw = roll, pitch, yaw\n",
    "\n",
    "        self.col, self.row = col, row\n",
    "        self.scale = scale\n",
    "\n",
    "        self.xyz = self.xyz_coord()\n",
    "\n",
    "    def xyz_coord(self):\n",
    "        \"\"\"\n",
    "        Returns:\n",
    "            Grid coordinate: [b, 3/4, row*cols]\n",
    "        \"\"\"\n",
    "        xmin = self.x\n",
    "        xmax = self.x + self.col * self.scale\n",
    "        print(\"xmax\", xmax)\n",
    "        ymin = self.y\n",
    "        print(ymin)\n",
    "        ymax = self.y + self.row * self.scale\n",
    "        print(\"ymax\", ymax)\n",
    "        return meshgrid(xmin, xmax, self.col,\n",
    "                        ymin, ymax, self.row)"
   ]
  },
  {
   "cell_type": "code",
   "execution_count": 40,
   "metadata": {},
   "outputs": [
    {
     "name": "stdout",
     "output_type": "stream",
     "text": [
      "xmax 54.0\n",
      "-25\n",
      "ymax 25.0\n"
     ]
    }
   ],
   "source": [
    "TARGET_H, TARGET_W = 500, 500 # Pixel Size of plane\n",
    "resolution = 0.1 # m per pixel ¤¤ 500pixel * 0.1 m/pixel = 50 m view \n",
    "\n",
    "plane = Plane(x=4, y=-25, z=0, roll=0, pitch=0, yaw=0, col=TARGET_H, row=TARGET_W, scale=resolution)"
   ]
  },
  {
   "cell_type": "code",
   "execution_count": 41,
   "metadata": {},
   "outputs": [
    {
     "data": {
      "text/plain": [
       "(4, 250000)"
      ]
     },
     "execution_count": 41,
     "metadata": {},
     "output_type": "execute_result"
    }
   ],
   "source": [
    "plane.xyz.shape"
   ]
  },
  {
   "cell_type": "code",
   "execution_count": 42,
   "metadata": {},
   "outputs": [
    {
     "data": {
      "text/plain": [
       "(250000,)"
      ]
     },
     "execution_count": 42,
     "metadata": {},
     "output_type": "execute_result"
    }
   ],
   "source": [
    "plane.xyz[0].shape"
   ]
  },
  {
   "cell_type": "code",
   "execution_count": 43,
   "metadata": {},
   "outputs": [
    {
     "data": {
      "text/plain": [
       "250000"
      ]
     },
     "execution_count": 43,
     "metadata": {},
     "output_type": "execute_result"
    }
   ],
   "source": [
    "500*500"
   ]
  },
  {
   "cell_type": "code",
   "execution_count": 44,
   "metadata": {},
   "outputs": [],
   "source": [
    "from nuscenes.eval.common.utils import quaternion_yaw, Quaternion\n",
    "from scipy.spatial.transform import Rotation as R"
   ]
  },
  {
   "cell_type": "code",
   "execution_count": 45,
   "metadata": {},
   "outputs": [
    {
     "data": {
      "text/plain": [
       "array([[ 0.5227949 , -0.12358479,  0.8434526 ,  0.        ],\n",
       "       [-0.79534034,  0.28537119,  0.53478691,  0.        ],\n",
       "       [-0.3067886 , -0.95041574,  0.05089863,  0.        ],\n",
       "       [ 0.        ,  0.        ,  0.        ,  1.        ]])"
      ]
     },
     "execution_count": 45,
     "metadata": {},
     "output_type": "execute_result"
    }
   ],
   "source": [
    "def rotation_matrix(angels):\n",
    "    \"\"\"\n",
    "    Angles: roll pitch yaw\n",
    "\n",
    "    \"\"\"\n",
    "    rotation = R.from_euler('xyz', [angels[0], angels[1], angels[2]])\n",
    "    rot_homogenous = np.zeros((4,4))\n",
    "    rot_homogenous[-1,-1] = 1\n",
    "    #rot_matrix = Quaternion(rotation.as_quat()).rotation_matrix\n",
    "    # rot_homogenous[:3, :3] = rot_matrix\n",
    "    rot_homogenous[:3, :3] = rotation.as_matrix()\n",
    "    return rot_homogenous\n",
    "\n",
    "\n",
    "roll_pitch_yaw = cam_name['C1_front60Single'].get('roll_pitch_yaw')\n",
    "rotation_matrix(roll_pitch_yaw)"
   ]
  },
  {
   "cell_type": "code",
   "execution_count": 46,
   "metadata": {},
   "outputs": [],
   "source": [
    "def translation_matrix(vector):\n",
    "    M = np.identity(4)\n",
    "    M[:3, 3] = vector[:3]\n",
    "    return M"
   ]
  },
  {
   "cell_type": "code",
   "execution_count": 47,
   "metadata": {},
   "outputs": [],
   "source": [
    "def camera_extrinsics(roll_pitch_yaw): \n",
    "    \n",
    "    R_cam2ego = rotation_matrix(roll_pitch_yaw)\n",
    "\n",
    "    T_cam2ego = translation_matrix(t)\n",
    "    T_ego2cam = T_cam2ego\n",
    "\n",
    "    R_ego2cam = np.transpose(R_cam2ego)\n",
    "    T_ego2cam[:3, 3] = -T_cam2ego[:3, 3]\n",
    "\n",
    "    RT_ego2cam = R_ego2cam + T_ego2cam\n",
    "\n",
    "    RT_cam2ego = R_cam2ego + T_cam2ego\n",
    "    return RT_cam2ego, RT_cam2ego, R_ego2cam, R_cam2ego\n",
    "\n",
    "RT_cam2ego, RT_cam2ego, R_ego2cam, R_cam2ego = camera_extrinsics(roll_pitch_yaw)\n"
   ]
  },
  {
   "cell_type": "markdown",
   "metadata": {},
   "source": [
    "### Camera coordinate: x - horsiontal, y- vertical, z- depth \n",
    "### Ego coordinate: x - forward, y - horisontal, z - vertical"
   ]
  },
  {
   "cell_type": "code",
   "execution_count": 48,
   "metadata": {},
   "outputs": [
    {
     "data": {
      "text/plain": [
       "array([[ 0.5227949 , -0.79534034, -0.3067886 ,  0.        ],\n",
       "       [-0.12358479,  0.28537119, -0.95041574,  0.        ],\n",
       "       [ 0.8434526 ,  0.53478691,  0.05089863,  0.        ],\n",
       "       [ 0.        ,  0.        ,  0.        ,  1.        ]])"
      ]
     },
     "execution_count": 48,
     "metadata": {},
     "output_type": "execute_result"
    }
   ],
   "source": [
    "R_ego2cam"
   ]
  },
  {
   "cell_type": "code",
   "execution_count": 49,
   "metadata": {},
   "outputs": [],
   "source": [
    "R = np.array([[0., -1., 0., 0.],\n",
    "                  [0., 0., -1., 0.],\n",
    "                  [1., 0., 0., 0.],\n",
    "                  [0., 0., 0., 1.]])"
   ]
  },
  {
   "cell_type": "code",
   "execution_count": 50,
   "metadata": {},
   "outputs": [],
   "source": [
    "R_cam2ego_ = R @ R_cam2ego"
   ]
  },
  {
   "cell_type": "code",
   "execution_count": 51,
   "metadata": {},
   "outputs": [
    {
     "data": {
      "text/plain": [
       "array([[ 0.79534034, -0.28537119, -0.53478691,  0.        ],\n",
       "       [ 0.3067886 ,  0.95041574, -0.05089863,  0.        ],\n",
       "       [ 0.5227949 , -0.12358479,  0.8434526 ,  0.        ],\n",
       "       [ 0.        ,  0.        ,  0.        ,  1.        ]])"
      ]
     },
     "execution_count": 51,
     "metadata": {},
     "output_type": "execute_result"
    }
   ],
   "source": [
    "R_cam2ego_"
   ]
  },
  {
   "cell_type": "code",
   "execution_count": 52,
   "metadata": {},
   "outputs": [],
   "source": [
    "def transform_rays(lookup_table_):\n",
    "    lookup_table_transposed = np.transpose(lookup_table_, axes=[2,0,1]).reshape(4,-1) # (1208, 1920, 4)  => (4, 2319360)\n",
    "    ego_cord = R_cam2ego @ lookup_table_transposed\n",
    "    return ego_cord\n"
   ]
  },
  {
   "cell_type": "code",
   "execution_count": 53,
   "metadata": {},
   "outputs": [],
   "source": [
    "ego_cord = transform_rays(lookup_table)"
   ]
  },
  {
   "cell_type": "code",
   "execution_count": 54,
   "metadata": {},
   "outputs": [],
   "source": [
    "ego_cord_re = np.array([ego_cord[2, :], ego_cord[0, :], ego_cord[1, :], ego_cord[3,:]])"
   ]
  },
  {
   "cell_type": "code",
   "execution_count": 55,
   "metadata": {},
   "outputs": [],
   "source": [
    "def intersection_with_plane(t, rays): \n",
    "\n",
    "    O_x, O_y, O_z = t[0], t[1], t[2]\n",
    "    R_x, R_y, R_z = rays[0, ...], rays[1, ...], rays[2, ...]\n",
    "\n",
    "    t = (O_z - plane.z) / R_z\n",
    "\n",
    "    t = - (O_z / R_z)\n",
    "\n",
    "    parallel_mask = R_z == 0\n",
    "    t[parallel_mask] = np.inf  # No intersec\n",
    "\n",
    "    # Compute intersection points\n",
    "    X_intersect = O_x + t * R_x\n",
    "    Y_intersect = O_y + t * R_y\n",
    "    Z_intersect = plane.z * np.ones_like(X_intersect)  # All points lie on the plane\n",
    "\n",
    "    intersections = np.stack([X_intersect, Y_intersect, Z_intersect], axis=-1)\n",
    "\n",
    "    return intersections\n",
    "\n",
    "intersections = intersection_with_plane(t, ego_cord_re)"
   ]
  },
  {
   "cell_type": "code",
   "execution_count": 56,
   "metadata": {},
   "outputs": [
    {
     "data": {
      "text/plain": [
       "(1208, 1920, 4)"
      ]
     },
     "execution_count": 56,
     "metadata": {},
     "output_type": "execute_result"
    }
   ],
   "source": [
    "lookup_table.shape"
   ]
  },
  {
   "cell_type": "code",
   "execution_count": 60,
   "metadata": {},
   "outputs": [
    {
     "data": {
      "text/plain": [
       "array([[[-0.4300534 , -0.34057683,  0.83609897,  1.        ],\n",
       "        [-0.4295856 , -0.34060857,  0.8363265 ,  1.        ],\n",
       "        [-0.42911768, -0.34064025,  0.8365538 ,  1.        ],\n",
       "        ...,\n",
       "        [ 0.53078485, -0.3326482 ,  0.7794951 ,  1.        ],\n",
       "        [ 0.53121835, -0.33260903,  0.77921647,  1.        ],\n",
       "        [ 0.5316517 , -0.33256987,  0.77893764,  1.        ]],\n",
       "\n",
       "       [[-0.43008515, -0.3400941 ,  0.8362791 ,  1.        ],\n",
       "        [-0.42961732, -0.3401258 ,  0.83650666,  1.        ],\n",
       "        [-0.42914933, -0.34015745,  0.836734  ,  1.        ],\n",
       "        ...,\n",
       "        [ 0.53082395, -0.33217666,  0.7796695 ,  1.        ],\n",
       "        [ 0.53125745, -0.33213755,  0.7793909 ,  1.        ],\n",
       "        [ 0.53169084, -0.33209845,  0.779112  ,  1.        ]],\n",
       "\n",
       "       [[-0.43011683, -0.33961126,  0.83645904,  1.        ],\n",
       "        [-0.42964894, -0.3396429 ,  0.8366866 ,  1.        ],\n",
       "        [-0.42918095, -0.3396745 ,  0.83691394,  1.        ],\n",
       "        ...,\n",
       "        [ 0.530863  , -0.331705  ,  0.77984375,  1.        ],\n",
       "        [ 0.53129655, -0.331666  ,  0.77956504,  1.        ],\n",
       "        [ 0.53172994, -0.33162692,  0.77928615,  1.        ]],\n",
       "\n",
       "       ...,\n",
       "\n",
       "       [[-0.43395513,  0.2738072 ,  0.85831964,  1.        ],\n",
       "        [-0.433483  ,  0.27383262,  0.8585501 ,  1.        ],\n",
       "        [-0.4330107 ,  0.27385804,  0.85878026,  1.        ],\n",
       "        ...,\n",
       "        [ 0.5356025 ,  0.26743394,  0.801005  ,  1.        ],\n",
       "        [ 0.5360398 ,  0.26740244,  0.80072296,  1.        ],\n",
       "        [ 0.536477  ,  0.2673709 ,  0.80044067,  1.        ]],\n",
       "\n",
       "       [[-0.43392965,  0.2743035 ,  0.858174  ,  1.        ],\n",
       "        [-0.43345755,  0.274329  ,  0.85840446,  1.        ],\n",
       "        [-0.43298528,  0.27435446,  0.8586346 ,  1.        ],\n",
       "        ...,\n",
       "        [ 0.535571  ,  0.26791868,  0.8008641 ,  1.        ],\n",
       "        [ 0.5360083 ,  0.26788712,  0.80058205,  1.        ],\n",
       "        [ 0.53644544,  0.26785553,  0.80029976,  1.        ]],\n",
       "\n",
       "       [[-0.43390414,  0.27479973,  0.8580282 ,  1.        ],\n",
       "        [-0.43343204,  0.27482527,  0.85825855,  1.        ],\n",
       "        [-0.4329598 ,  0.2748508 ,  0.8584887 ,  1.        ],\n",
       "        ...,\n",
       "        [ 0.5355394 ,  0.26840332,  0.8007229 ,  1.        ],\n",
       "        [ 0.5359767 ,  0.2683717 ,  0.8004409 ,  1.        ],\n",
       "        [ 0.5364138 ,  0.26834005,  0.8001587 ,  1.        ]]],\n",
       "      dtype=float32)"
      ]
     },
     "execution_count": 60,
     "metadata": {},
     "output_type": "execute_result"
    }
   ],
   "source": [
    "lookup_table"
   ]
  },
  {
   "cell_type": "code",
   "execution_count": 62,
   "metadata": {},
   "outputs": [
    {
     "data": {
      "text/plain": [
       "10"
      ]
     },
     "execution_count": 62,
     "metadata": {},
     "output_type": "execute_result"
    }
   ],
   "source": [
    "image_width"
   ]
  },
  {
   "cell_type": "code",
   "execution_count": null,
   "metadata": {},
   "outputs": [
    {
     "data": {
      "image/png": "[encoded data removed]",
      "text/plain": [
       "<Figure size 1000x800 with 1 Axes>"
      ]
     },
     "metadata": {},
     "output_type": "display_data"
    }
   ],
   "source": [
    "import numpy as np\n",
    "import matplotlib.pyplot as plt\n",
    "from mpl_toolkits.mplot3d import Axes3D\n",
    "\n",
    "# Example: Create a set of 3D rays\n",
    "# Replace these with your calculated ray directions\n",
    "\n",
    "\n",
    "# Create pixel grid (u, v coordinates)\n",
    "u, v = np.meshgrid(np.linspace(-1, 1, image_width), np.linspace(-1, 1, image_height))\n",
    "\n",
    "# Simulate ray directions in the camera frame (Example: assuming normalized rays)\n",
    "# rays_x = lookup_table[1]\n",
    "# rays_y = lookup_table[3]\n",
    "# rays_z = lookup_table[2]\n",
    "\n",
    "rays_x = lookup_table[1]\n",
    "rays_y = lookup_table[3]\n",
    "rays_z = lookup_table[2]\n",
    "#rays_z = np.ones_like(u)  # Assuming rays are pointing outward along the z-axis\n",
    "\n",
    "# Flatten the grid for plotting\n",
    "rays_x = rays_x.flatten()\n",
    "rays_y = rays_y.flatten()\n",
    "rays_z = rays_z.flatten()\n",
    "\n",
    "# 3D plot of the rays\n",
    "fig = plt.figure(figsize=(10, 8))\n",
    "ax = fig.add_subplot(111, projection='3d')\n",
    "\n",
    "# Plot the camera origin\n",
    "ax.scatter(0, 0, 0, color='red', label='Camera Origin')\n",
    "\n",
    "# Plot the rays\n",
    "for i in range(len(rays_x)):\n",
    "    ax.plot([0, rays_x[i]], [0, rays_y[i]], [0, rays_z[i]], color='blue', alpha=0.6)\n",
    "\n",
    "# Set labels and limits\n",
    "ax.set_xlabel(\"X\")\n",
    "ax.set_ylabel(\"Y\")\n",
    "ax.set_zlabel(\"Z\")\n",
    "ax.set_xlim([-1.5, 1.5])\n",
    "ax.set_ylim([-1.5, 1.5])\n",
    "ax.set_zlim([0, 2])\n",
    "ax.legend()\n",
    "ax.view_init(elev=20, azim=30)\n",
    "\n",
    "plt.show()\n"
   ]
  },
  {
   "cell_type": "code",
   "execution_count": 57,
   "metadata": {},
   "outputs": [],
   "source": [
    "intersections = intersection_with_plane(t, ego_cord_re)"
   ]
  },
  {
   "cell_type": "code",
   "execution_count": 58,
   "metadata": {},
   "outputs": [],
   "source": [
    "intersections_frame = intersections.reshape(image_height, image_width,3)"
   ]
  },
  {
   "cell_type": "code",
   "execution_count": 59,
   "metadata": {},
   "outputs": [
    {
     "data": {
      "text/plain": [
       "array([ 2.24162756, -2.30209394,  0.        ])"
      ]
     },
     "execution_count": 59,
     "metadata": {},
     "output_type": "execute_result"
    }
   ],
   "source": [
    "intersections_frame[1000,1000,:]"
   ]
  },
  {
   "cell_type": "code",
   "execution_count": 110,
   "metadata": {},
   "outputs": [],
   "source": [
    "import matplotlib.pyplot as plt"
   ]
  },
  {
   "cell_type": "code",
   "execution_count": 111,
   "metadata": {},
   "outputs": [],
   "source": [
    "def plot_image_on_plane(image, intersections, plane_z=0, rotation=True):\n",
    "    \"\"\"\n",
    "    Plot the original image pixels on their intersection points on the plane.\n",
    "\n",
    "    Parameters:\n",
    "    - image: The original image (H, W, 3).\n",
    "    - intersections: (H, W, 3) array of intersection points.\n",
    "    - plane_z: Z-coordinate of the plane (default is 0).\n",
    "    \"\"\"\n",
    "    # Extract (x, y) coordinates of the intersection points\n",
    "    x_coords = intersections[:, :, 0].flatten()\n",
    "    y_coords = intersections[:, :, 1].flatten()\n",
    "\n",
    "    # Flatten the image pixels\n",
    "    pixels = image.reshape(-1, 3)  # RGB values for each pixel\n",
    "    \n",
    "    # Plot the intersections\n",
    "    plt.figure(figsize=(10, 10))\n",
    "    plt.scatter(x_coords, y_coords, c=pixels / 255.0, s=1)  # Normalize RGB to [0, 1]\n",
    "    plt.xlabel(\"Ego Frame X\")\n",
    "    plt.ylabel(\"Ego Frame Y\")\n",
    "    plt.title(\"\")\n",
    "    plt.axis('equal')\n",
    "    plt.show()\n"
   ]
  },
  {
   "cell_type": "code",
   "execution_count": 112,
   "metadata": {},
   "outputs": [
    {
     "data": {
      "text/plain": [
       "'/cluster/home/terjenf/MapTR/NAP_data/nuscenes/samples/C1_front60Single/frame_0753.png'"
      ]
     },
     "execution_count": 112,
     "metadata": {},
     "output_type": "execute_result"
    }
   ],
   "source": [
    "image_path_front"
   ]
  },
  {
   "cell_type": "code",
   "execution_count": 113,
   "metadata": {},
   "outputs": [
    {
     "data": {
      "image/png": "[encoded data removed]",
      "text/plain": [
       "<Figure size 1000x1000 with 1 Axes>"
      ]
     },
     "metadata": {},
     "output_type": "display_data"
    }
   ],
   "source": [
    "plot_image_on_plane(image, intersections_frame)"
   ]
  },
  {
   "cell_type": "code",
   "execution_count": 117,
   "metadata": {},
   "outputs": [
    {
     "data": {
      "text/plain": [
       "(1208, 1920, 3)"
      ]
     },
     "execution_count": 117,
     "metadata": {},
     "output_type": "execute_result"
    }
   ],
   "source": [
    "lookup_table.shape"
   ]
  },
  {
   "cell_type": "code",
   "execution_count": null,
   "metadata": {},
   "outputs": [],
   "source": [
    "def bacward_transformation(image, lookup_table): \n",
    "    for i in range(len(image[0])): \n",
    "        for j in range(len(image[1])): \n",
    "            ray = lookup_table[i,j]\n",
    "\n",
    "            \n"
   ]
  },
  {
   "cell_type": "code",
   "execution_count": 87,
   "metadata": {},
   "outputs": [
    {
     "data": {
      "text/plain": [
       "array([[  0.       ,   0.1002004,   0.2004008, ...,  49.7995992,\n",
       "         49.8997996,  50.       ],\n",
       "       [-25.       , -25.       , -25.       , ...,  25.       ,\n",
       "         25.       ,  25.       ],\n",
       "       [  0.       ,   0.       ,   0.       , ...,   0.       ,\n",
       "          0.       ,   0.       ],\n",
       "       [  1.       ,   1.       ,   1.       , ...,   1.       ,\n",
       "          1.       ,   1.       ]])"
      ]
     },
     "execution_count": 87,
     "metadata": {},
     "output_type": "execute_result"
    }
   ],
   "source": [
    "plane.xyz"
   ]
  },
  {
   "cell_type": "code",
   "execution_count": null,
   "metadata": {},
   "outputs": [
    {
     "data": {
      "text/plain": [
       "1000000"
      ]
     },
     "execution_count": 75,
     "metadata": {},
     "output_type": "execute_result"
    }
   ],
   "source": [
    "def forward_transformation(cam_xyz): \n",
    "    forward_poly  = \n",
    "\n",
    "    for i in range(len(cam_xyz)):\n",
    "        for j in range(len(cam_xyz)):\n",
    "\n",
    "            ray = cam_xyz[i, j]\n",
    "            len_ray = np.sqrt(np.sum([ray[0]**2, ray[1]]**2, ray[2]**2))\n",
    "            theta = np.arccos(r[2] /  len_ray)\n",
    "\n",
    "            \n",
    "\n"
   ]
  },
  {
   "cell_type": "code",
   "execution_count": 132,
   "metadata": {},
   "outputs": [
    {
     "data": {
      "text/plain": [
       "(250000,)"
      ]
     },
     "execution_count": 132,
     "metadata": {},
     "output_type": "execute_result"
    }
   ],
   "source": [
    "plane.xyz[0].shape"
   ]
  },
  {
   "cell_type": "code",
   "execution_count": 49,
   "metadata": {},
   "outputs": [],
   "source": [
    "import numpy as np\n",
    "import cv2\n",
    "\n",
    "def transform_to_top_down_view(image, lookup_table, grid_size=(500, 500), scaling_factor=1):\n",
    "    \"\"\"\n",
    "    Transforms an image to a top-down view using the precomputed lookup table.\n",
    "\n",
    "    Parameters:\n",
    "    - image: Input image (height x width x channels).\n",
    "    - lookup_table: Precomputed lookup table for rays (height x width x 3).\n",
    "    - grid_size: The size of the output top-down view grid (height, width).\n",
    "    - scaling_factor: Factor to scale the projection from camera space to top-down grid space.\n",
    "\n",
    "    Returns:\n",
    "    - top_down_image: The top-down view image (grid_size[0] x grid_size[1] x channels).\n",
    "    \"\"\"\n",
    "    # Initialize the top-down image (the same number of channels as the original image)\n",
    "    top_down_image = np.zeros((grid_size[0], grid_size[1], image.shape[2]), dtype=np.uint8)\n",
    "\n",
    "    # Get the height and width of the input image\n",
    "    image_height, image_width = image.shape[:2]\n",
    "\n",
    "    # Create a grid for the top-down view\n",
    "    for v in range(image_height):\n",
    "        for u in range(image_width):\n",
    "            # Get the 3D ray direction from the lookup table\n",
    "            ray = lookup_table[v, u]\n",
    "\n",
    "            # Ignore the height (z-component), and project onto the ground plane (xy-plane)\n",
    "            x_proj, y_proj, _ = ray  # Ignore z since we're mapping to the ground plane\n",
    "\n",
    "            # Scale and transform the projected coordinates to fit into the top-down view grid\n",
    "            # You may need to adjust the scaling factor based on your scene\n",
    "            x_grid = int(x_proj * scaling_factor) + grid_size[1] // 2  # Centering on the grid\n",
    "            y_grid = int(y_proj * scaling_factor) + grid_size[0] // 2  # Centering on the grid\n",
    "\n",
    "            # Make sure the coordinates are within the bounds of the top-down image\n",
    "            if 0 <= x_grid < grid_size[1] and 0 <= y_grid < grid_size[0]:\n",
    "                # Map the color from the original image to the top-down view image\n",
    "                top_down_image[y_grid, x_grid] = image[v, u]\n",
    "\n",
    "    return top_down_image\n",
    "\n"
   ]
  },
  {
   "cell_type": "code",
   "execution_count": 59,
   "metadata": {},
   "outputs": [
    {
     "data": {
      "text/plain": [
       "True"
      ]
     },
     "execution_count": 59,
     "metadata": {},
     "output_type": "execute_result"
    }
   ],
   "source": [
    "\n",
    "\n",
    "# Transform the image to top-down view\n",
    "top_down_image = transform_to_top_down_view(image, look_up, grid_size=(1000, 1000), scaling_factor=1)\n",
    "\n",
    "# Display the top-down image\n",
    "# cv2.imshow(\"Top-Down View\", top_down_image)\n",
    "# cv2.waitKey(0)\n",
    "# cv2.destroyAllWindows()\n",
    "\n",
    "# Save the top-down image if needed\n",
    "cv2.imwrite(\"top_down_view.jpg\", top_down_image)"
   ]
  },
  {
   "cell_type": "code",
   "execution_count": null,
   "metadata": {},
   "outputs": [],
   "source": [
    "# Example Usage\n",
    "image_width = 640  # Replace with actual image width\n",
    "image_height = 480  # Replace with actual image height\n",
    "u0, v0 = 320, 240  # Example principal point at the center of the image\n",
    "j_coeffs = [0, 1, 0.0001, -0.000001]  # Example backward polynomial coefficients\n",
    "\n",
    "# Precompute the lookup table\n",
    "lookup_table = precompute_lookup_table(image_width, image_height, u0, v0, j_coeffs)\n",
    "\n",
    "# Save the lookup table for later use (optional)\n",
    "np.save(\"lookup_table.npy\", lookup_table)"
   ]
  },
  {
   "cell_type": "code",
   "execution_count": 34,
   "metadata": {},
   "outputs": [
    {
     "name": "stdout",
     "output_type": "stream",
     "text": [
      "rig\n",
      "version\n"
     ]
    }
   ],
   "source": [
    "for obj in json_object:\n",
    "    print(obj)"
   ]
  },
  {
   "cell_type": "code",
   "execution_count": 24,
   "metadata": {},
   "outputs": [
    {
     "data": {
      "text/plain": [
       "'/cluster/home/terjenf/MapTR/NAP_data/nuscenes/samples'"
      ]
     },
     "execution_count": 24,
     "metadata": {},
     "output_type": "execute_result"
    }
   ],
   "source": [
    "image_save_path"
   ]
  },
  {
   "cell_type": "code",
   "execution_count": 29,
   "metadata": {},
   "outputs": [
    {
     "data": {
      "text/plain": [
       "'/cluster/projects/vc/data/ad/closed/NAP-data/Trip077/C1_front60Single.h264'"
      ]
     },
     "execution_count": 29,
     "metadata": {},
     "output_type": "execute_result"
    }
   ],
   "source": [
    "h[0]"
   ]
  },
  {
   "cell_type": "code",
   "execution_count": null,
   "metadata": {},
   "outputs": [
    {
     "data": {
      "text/plain": [
       "'C1_front60Single'"
      ]
     },
     "execution_count": 31,
     "metadata": {},
     "output_type": "execute_result"
    }
   ],
   "source": [
    "h[0]."
   ]
  },
  {
   "cell_type": "code",
   "execution_count": 52,
   "metadata": {},
   "outputs": [
    {
     "data": {
      "text/plain": [
       "30.0"
      ]
     },
     "execution_count": 52,
     "metadata": {},
     "output_type": "execute_result"
    }
   ],
   "source": [
    "cap_2 = cv2.VideoCapture(h[0])\n",
    "cap_2.get(cv2.CAP_PROP_FPS)\n"
   ]
  },
  {
   "cell_type": "code",
   "execution_count": 53,
   "metadata": {},
   "outputs": [],
   "source": [
    "def save_frame(video_path,image_save_path, cap):\n",
    "    if not cap.isOpened():\n",
    "        print(\"Error: Unable to open the .h264 file\")\n",
    "    else:\n",
    "        frame_count = 0\n",
    "        while True:\n",
    "            # Read each frame\n",
    "            ret, frame = cap.read()\n",
    "            if not ret:\n",
    "                break\n",
    "\n",
    "            \n",
    "            cam_type = video_path.split(\"/\")[-1].split(\".\")[0]\n",
    "            print(cam_type)\n",
    "            # Save the frame as an image file\n",
    "            if not (os.path.exists(dir_path := os.path.join(image_save_path, cam_type))):\n",
    "                print(dir_path)\n",
    "                os.makedirs(dir_path)\n",
    "            frame_filename = os.path.join(dir_path,f\"frame_{frame_count:04d}.png\")\n",
    "            cv2.imwrite(frame_filename, frame)\n",
    "            print(f\"Saved: {frame_filename}\")\n",
    "\n",
    "            frame_count += 1\n",
    "            \n",
    "        # Release resources\n",
    "        cap.release()\n",
    "        print(f\"Extracted {frame_count} frames to {image_save_path}\")"
   ]
  },
  {
   "cell_type": "code",
   "execution_count": null,
   "metadata": {},
   "outputs": [],
   "source": []
  },
  {
   "cell_type": "code",
   "execution_count": null,
   "metadata": {},
   "outputs": [],
   "source": []
  }
 ],
 "metadata": {
  "kernelspec": {
   "display_name": "Python 3",
   "language": "python",
   "name": "python3"
  },
  "language_info": {
   "codemirror_mode": {
    "name": "ipython",
    "version": 3
   },
   "file_extension": ".py",
   "mimetype": "text/x-python",
   "name": "python",
   "nbconvert_exporter": "python",
   "pygments_lexer": "ipython3",
   "version": "3.8.18"
  }
 },
 "nbformat": 4,
 "nbformat_minor": 2
}
